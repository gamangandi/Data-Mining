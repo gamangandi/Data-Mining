{
 "cells": [
  {
   "cell_type": "code",
   "execution_count": 1,
   "metadata": {},
   "outputs": [],
   "source": [
    "import pandas as pd\n",
    "import numpy as np\n",
    "\n",
    "posts = pd.read_csv('Posts.csv')\n",
    "tags = pd.read_csv('Tags.csv', keep_default_na=False)"
   ]
  },
  {
   "cell_type": "code",
   "execution_count": 2,
   "metadata": {},
   "outputs": [
    {
     "data": {
      "text/plain": [
       "(178628, 63423)"
      ]
     },
     "execution_count": 2,
     "metadata": {},
     "output_type": "execute_result"
    }
   ],
   "source": [
    "answer_posts = posts[posts['PostTypeId'] == 2][['Id', 'OwnerUserId', 'ParentId']].reset_index(drop=True)\n",
    "question_posts = posts[posts['PostTypeId'] == 1][['Id', 'Tags']].reset_index(drop=True)\n",
    "\n",
    "len(answer_posts), len(question_posts)"
   ]
  },
  {
   "cell_type": "code",
   "execution_count": 3,
   "metadata": {},
   "outputs": [
    {
     "data": {
      "text/html": [
       "<div>\n",
       "<style scoped>\n",
       "    .dataframe tbody tr th:only-of-type {\n",
       "        vertical-align: middle;\n",
       "    }\n",
       "\n",
       "    .dataframe tbody tr th {\n",
       "        vertical-align: top;\n",
       "    }\n",
       "\n",
       "    .dataframe thead th {\n",
       "        text-align: right;\n",
       "    }\n",
       "</style>\n",
       "<table border=\"1\" class=\"dataframe\">\n",
       "  <thead>\n",
       "    <tr style=\"text-align: right;\">\n",
       "      <th></th>\n",
       "      <th>OwnerUserId</th>\n",
       "      <th>AnswerCount</th>\n",
       "    </tr>\n",
       "  </thead>\n",
       "  <tbody>\n",
       "    <tr>\n",
       "      <th>0</th>\n",
       "      <td>9113.0</td>\n",
       "      <td>2838</td>\n",
       "    </tr>\n",
       "    <tr>\n",
       "      <th>1</th>\n",
       "      <td>177980.0</td>\n",
       "      <td>2318</td>\n",
       "    </tr>\n",
       "    <tr>\n",
       "      <th>2</th>\n",
       "      <td>1204.0</td>\n",
       "      <td>2042</td>\n",
       "    </tr>\n",
       "    <tr>\n",
       "      <th>3</th>\n",
       "      <td>123788.0</td>\n",
       "      <td>1672</td>\n",
       "    </tr>\n",
       "    <tr>\n",
       "      <th>4</th>\n",
       "      <td>131624.0</td>\n",
       "      <td>1602</td>\n",
       "    </tr>\n",
       "    <tr>\n",
       "      <th>...</th>\n",
       "      <td>...</td>\n",
       "      <td>...</td>\n",
       "    </tr>\n",
       "    <tr>\n",
       "      <th>26856</th>\n",
       "      <td>61188.0</td>\n",
       "      <td>1</td>\n",
       "    </tr>\n",
       "    <tr>\n",
       "      <th>26857</th>\n",
       "      <td>61176.0</td>\n",
       "      <td>1</td>\n",
       "    </tr>\n",
       "    <tr>\n",
       "      <th>26858</th>\n",
       "      <td>61136.0</td>\n",
       "      <td>1</td>\n",
       "    </tr>\n",
       "    <tr>\n",
       "      <th>26859</th>\n",
       "      <td>61134.0</td>\n",
       "      <td>1</td>\n",
       "    </tr>\n",
       "    <tr>\n",
       "      <th>26860</th>\n",
       "      <td>442876.0</td>\n",
       "      <td>1</td>\n",
       "    </tr>\n",
       "  </tbody>\n",
       "</table>\n",
       "<p>26861 rows × 2 columns</p>\n",
       "</div>"
      ],
      "text/plain": [
       "       OwnerUserId  AnswerCount\n",
       "0           9113.0         2838\n",
       "1         177980.0         2318\n",
       "2           1204.0         2042\n",
       "3         123788.0         1672\n",
       "4         131624.0         1602\n",
       "...            ...          ...\n",
       "26856      61188.0            1\n",
       "26857      61176.0            1\n",
       "26858      61136.0            1\n",
       "26859      61134.0            1\n",
       "26860     442876.0            1\n",
       "\n",
       "[26861 rows x 2 columns]"
      ]
     },
     "execution_count": 3,
     "metadata": {},
     "output_type": "execute_result"
    }
   ],
   "source": [
    "#create a dataframe of users and number of questions they have answered without considering multiple answers bythe same person to the same question\n",
    "answerer_table = answer_posts.drop_duplicates(subset=['OwnerUserId', 'ParentId']).groupby('OwnerUserId').size().sort_values(ascending = False).reset_index(name='AnswerCount')\n",
    "answerer_table"
   ]
  },
  {
   "cell_type": "code",
   "execution_count": 4,
   "metadata": {},
   "outputs": [
    {
     "data": {
      "text/html": [
       "<div>\n",
       "<style scoped>\n",
       "    .dataframe tbody tr th:only-of-type {\n",
       "        vertical-align: middle;\n",
       "    }\n",
       "\n",
       "    .dataframe tbody tr th {\n",
       "        vertical-align: top;\n",
       "    }\n",
       "\n",
       "    .dataframe thead th {\n",
       "        text-align: right;\n",
       "    }\n",
       "</style>\n",
       "<table border=\"1\" class=\"dataframe\">\n",
       "  <thead>\n",
       "    <tr style=\"text-align: right;\">\n",
       "      <th></th>\n",
       "      <th>Id</th>\n",
       "      <th>TagName</th>\n",
       "      <th>Count</th>\n",
       "    </tr>\n",
       "  </thead>\n",
       "  <tbody>\n",
       "    <tr>\n",
       "      <th>0</th>\n",
       "      <td>609</td>\n",
       "      <td>design</td>\n",
       "      <td>5162</td>\n",
       "    </tr>\n",
       "    <tr>\n",
       "      <th>1</th>\n",
       "      <td>249</td>\n",
       "      <td>c#</td>\n",
       "      <td>4931</td>\n",
       "    </tr>\n",
       "    <tr>\n",
       "      <th>2</th>\n",
       "      <td>76</td>\n",
       "      <td>java</td>\n",
       "      <td>4929</td>\n",
       "    </tr>\n",
       "    <tr>\n",
       "      <th>3</th>\n",
       "      <td>391</td>\n",
       "      <td>design-patterns</td>\n",
       "      <td>4450</td>\n",
       "    </tr>\n",
       "    <tr>\n",
       "      <th>4</th>\n",
       "      <td>790</td>\n",
       "      <td>architecture</td>\n",
       "      <td>3510</td>\n",
       "    </tr>\n",
       "    <tr>\n",
       "      <th>...</th>\n",
       "      <td>...</td>\n",
       "      <td>...</td>\n",
       "      <td>...</td>\n",
       "    </tr>\n",
       "    <tr>\n",
       "      <th>1673</th>\n",
       "      <td>3389</td>\n",
       "      <td>riak</td>\n",
       "      <td>1</td>\n",
       "    </tr>\n",
       "    <tr>\n",
       "      <th>1674</th>\n",
       "      <td>3379</td>\n",
       "      <td>modern-ui</td>\n",
       "      <td>1</td>\n",
       "    </tr>\n",
       "    <tr>\n",
       "      <th>1675</th>\n",
       "      <td>4719</td>\n",
       "      <td>hl7-fhir</td>\n",
       "      <td>1</td>\n",
       "    </tr>\n",
       "    <tr>\n",
       "      <th>1676</th>\n",
       "      <td>3286</td>\n",
       "      <td>ceylon</td>\n",
       "      <td>1</td>\n",
       "    </tr>\n",
       "    <tr>\n",
       "      <th>1677</th>\n",
       "      <td>4927</td>\n",
       "      <td>noop</td>\n",
       "      <td>1</td>\n",
       "    </tr>\n",
       "  </tbody>\n",
       "</table>\n",
       "<p>1678 rows × 3 columns</p>\n",
       "</div>"
      ],
      "text/plain": [
       "        Id          TagName  Count\n",
       "0      609           design   5162\n",
       "1      249               c#   4931\n",
       "2       76             java   4929\n",
       "3      391  design-patterns   4450\n",
       "4      790     architecture   3510\n",
       "...    ...              ...    ...\n",
       "1673  3389             riak      1\n",
       "1674  3379        modern-ui      1\n",
       "1675  4719         hl7-fhir      1\n",
       "1676  3286           ceylon      1\n",
       "1677  4927             noop      1\n",
       "\n",
       "[1678 rows x 3 columns]"
      ]
     },
     "execution_count": 4,
     "metadata": {},
     "output_type": "execute_result"
    }
   ],
   "source": [
    "tags_table = tags[['Id', 'TagName', 'Count']].sort_values(ascending = False, by = 'Count').reset_index(drop=True)\n",
    "tags_table"
   ]
  },
  {
   "cell_type": "code",
   "execution_count": 5,
   "metadata": {},
   "outputs": [
    {
     "data": {
      "text/html": [
       "<div>\n",
       "<style scoped>\n",
       "    .dataframe tbody tr th:only-of-type {\n",
       "        vertical-align: middle;\n",
       "    }\n",
       "\n",
       "    .dataframe tbody tr th {\n",
       "        vertical-align: top;\n",
       "    }\n",
       "\n",
       "    .dataframe thead th {\n",
       "        text-align: right;\n",
       "    }\n",
       "</style>\n",
       "<table border=\"1\" class=\"dataframe\">\n",
       "  <thead>\n",
       "    <tr style=\"text-align: right;\">\n",
       "      <th></th>\n",
       "      <th>OwnerUserId</th>\n",
       "      <th>AnswerCount</th>\n",
       "    </tr>\n",
       "  </thead>\n",
       "  <tbody>\n",
       "    <tr>\n",
       "      <th>0</th>\n",
       "      <td>9113.0</td>\n",
       "      <td>2838</td>\n",
       "    </tr>\n",
       "    <tr>\n",
       "      <th>1</th>\n",
       "      <td>177980.0</td>\n",
       "      <td>2318</td>\n",
       "    </tr>\n",
       "    <tr>\n",
       "      <th>2</th>\n",
       "      <td>1204.0</td>\n",
       "      <td>2042</td>\n",
       "    </tr>\n",
       "    <tr>\n",
       "      <th>3</th>\n",
       "      <td>123788.0</td>\n",
       "      <td>1672</td>\n",
       "    </tr>\n",
       "    <tr>\n",
       "      <th>4</th>\n",
       "      <td>131624.0</td>\n",
       "      <td>1602</td>\n",
       "    </tr>\n",
       "    <tr>\n",
       "      <th>...</th>\n",
       "      <td>...</td>\n",
       "      <td>...</td>\n",
       "    </tr>\n",
       "    <tr>\n",
       "      <th>1155</th>\n",
       "      <td>6425.0</td>\n",
       "      <td>20</td>\n",
       "    </tr>\n",
       "    <tr>\n",
       "      <th>1156</th>\n",
       "      <td>13125.0</td>\n",
       "      <td>20</td>\n",
       "    </tr>\n",
       "    <tr>\n",
       "      <th>1157</th>\n",
       "      <td>26149.0</td>\n",
       "      <td>20</td>\n",
       "    </tr>\n",
       "    <tr>\n",
       "      <th>1158</th>\n",
       "      <td>207341.0</td>\n",
       "      <td>20</td>\n",
       "    </tr>\n",
       "    <tr>\n",
       "      <th>1159</th>\n",
       "      <td>19888.0</td>\n",
       "      <td>20</td>\n",
       "    </tr>\n",
       "  </tbody>\n",
       "</table>\n",
       "<p>1160 rows × 2 columns</p>\n",
       "</div>"
      ],
      "text/plain": [
       "      OwnerUserId  AnswerCount\n",
       "0          9113.0         2838\n",
       "1        177980.0         2318\n",
       "2          1204.0         2042\n",
       "3        123788.0         1672\n",
       "4        131624.0         1602\n",
       "...           ...          ...\n",
       "1155       6425.0           20\n",
       "1156      13125.0           20\n",
       "1157      26149.0           20\n",
       "1158     207341.0           20\n",
       "1159      19888.0           20\n",
       "\n",
       "[1160 rows x 2 columns]"
      ]
     },
     "execution_count": 5,
     "metadata": {},
     "output_type": "execute_result"
    }
   ],
   "source": [
    "#filter from answerer_table where user has answered atleast 20 questions\n",
    "updated_answerer_table = answerer_table[answerer_table['AnswerCount'] >= 20].reset_index(drop=True)\n",
    "updated_answerer_table"
   ]
  },
  {
   "cell_type": "code",
   "execution_count": 6,
   "metadata": {},
   "outputs": [
    {
     "data": {
      "text/html": [
       "<div>\n",
       "<style scoped>\n",
       "    .dataframe tbody tr th:only-of-type {\n",
       "        vertical-align: middle;\n",
       "    }\n",
       "\n",
       "    .dataframe tbody tr th {\n",
       "        vertical-align: top;\n",
       "    }\n",
       "\n",
       "    .dataframe thead th {\n",
       "        text-align: right;\n",
       "    }\n",
       "</style>\n",
       "<table border=\"1\" class=\"dataframe\">\n",
       "  <thead>\n",
       "    <tr style=\"text-align: right;\">\n",
       "      <th></th>\n",
       "      <th>Id</th>\n",
       "      <th>TagName</th>\n",
       "      <th>Count</th>\n",
       "    </tr>\n",
       "  </thead>\n",
       "  <tbody>\n",
       "    <tr>\n",
       "      <th>0</th>\n",
       "      <td>609</td>\n",
       "      <td>design</td>\n",
       "      <td>5162</td>\n",
       "    </tr>\n",
       "    <tr>\n",
       "      <th>1</th>\n",
       "      <td>249</td>\n",
       "      <td>c#</td>\n",
       "      <td>4931</td>\n",
       "    </tr>\n",
       "    <tr>\n",
       "      <th>2</th>\n",
       "      <td>76</td>\n",
       "      <td>java</td>\n",
       "      <td>4929</td>\n",
       "    </tr>\n",
       "    <tr>\n",
       "      <th>3</th>\n",
       "      <td>391</td>\n",
       "      <td>design-patterns</td>\n",
       "      <td>4450</td>\n",
       "    </tr>\n",
       "    <tr>\n",
       "      <th>4</th>\n",
       "      <td>790</td>\n",
       "      <td>architecture</td>\n",
       "      <td>3510</td>\n",
       "    </tr>\n",
       "    <tr>\n",
       "      <th>...</th>\n",
       "      <td>...</td>\n",
       "      <td>...</td>\n",
       "      <td>...</td>\n",
       "    </tr>\n",
       "    <tr>\n",
       "      <th>969</th>\n",
       "      <td>4690</td>\n",
       "      <td>vue.js</td>\n",
       "      <td>20</td>\n",
       "    </tr>\n",
       "    <tr>\n",
       "      <th>970</th>\n",
       "      <td>4646</td>\n",
       "      <td>serverless</td>\n",
       "      <td>20</td>\n",
       "    </tr>\n",
       "    <tr>\n",
       "      <th>971</th>\n",
       "      <td>1547</td>\n",
       "      <td>copy-protection</td>\n",
       "      <td>20</td>\n",
       "    </tr>\n",
       "    <tr>\n",
       "      <th>972</th>\n",
       "      <td>4682</td>\n",
       "      <td>azure-devops</td>\n",
       "      <td>20</td>\n",
       "    </tr>\n",
       "    <tr>\n",
       "      <th>973</th>\n",
       "      <td>2592</td>\n",
       "      <td>order</td>\n",
       "      <td>20</td>\n",
       "    </tr>\n",
       "  </tbody>\n",
       "</table>\n",
       "<p>974 rows × 3 columns</p>\n",
       "</div>"
      ],
      "text/plain": [
       "       Id          TagName  Count\n",
       "0     609           design   5162\n",
       "1     249               c#   4931\n",
       "2      76             java   4929\n",
       "3     391  design-patterns   4450\n",
       "4     790     architecture   3510\n",
       "..    ...              ...    ...\n",
       "969  4690           vue.js     20\n",
       "970  4646       serverless     20\n",
       "971  1547  copy-protection     20\n",
       "972  4682     azure-devops     20\n",
       "973  2592            order     20\n",
       "\n",
       "[974 rows x 3 columns]"
      ]
     },
     "execution_count": 6,
     "metadata": {},
     "output_type": "execute_result"
    }
   ],
   "source": [
    "updated_tags_table = tags_table[tags_table['Count'] >= 20].reset_index(drop=True)\n",
    "updated_tags_table"
   ]
  },
  {
   "cell_type": "markdown",
   "metadata": {},
   "source": [
    "# Q2"
   ]
  },
  {
   "cell_type": "markdown",
   "metadata": {},
   "source": [
    "## Preprocessing \n",
    "Reducing the size of answer_posts and mering answer_posts and questions_Posts to include tags"
   ]
  },
  {
   "cell_type": "code",
   "execution_count": 7,
   "metadata": {},
   "outputs": [
    {
     "data": {
      "text/html": [
       "<div>\n",
       "<style scoped>\n",
       "    .dataframe tbody tr th:only-of-type {\n",
       "        vertical-align: middle;\n",
       "    }\n",
       "\n",
       "    .dataframe tbody tr th {\n",
       "        vertical-align: top;\n",
       "    }\n",
       "\n",
       "    .dataframe thead th {\n",
       "        text-align: right;\n",
       "    }\n",
       "</style>\n",
       "<table border=\"1\" class=\"dataframe\">\n",
       "  <thead>\n",
       "    <tr style=\"text-align: right;\">\n",
       "      <th></th>\n",
       "      <th>Id_x</th>\n",
       "      <th>OwnerUserId</th>\n",
       "      <th>ParentId</th>\n",
       "      <th>Id_y</th>\n",
       "      <th>Tags</th>\n",
       "    </tr>\n",
       "  </thead>\n",
       "  <tbody>\n",
       "    <tr>\n",
       "      <th>0</th>\n",
       "      <td>3</td>\n",
       "      <td>11.0</td>\n",
       "      <td>1.0</td>\n",
       "      <td>1</td>\n",
       "      <td>|comments|anti-patterns|</td>\n",
       "    </tr>\n",
       "    <tr>\n",
       "      <th>1</th>\n",
       "      <td>13</td>\n",
       "      <td>4.0</td>\n",
       "      <td>1.0</td>\n",
       "      <td>1</td>\n",
       "      <td>|comments|anti-patterns|</td>\n",
       "    </tr>\n",
       "    <tr>\n",
       "      <th>2</th>\n",
       "      <td>56</td>\n",
       "      <td>17.0</td>\n",
       "      <td>1.0</td>\n",
       "      <td>1</td>\n",
       "      <td>|comments|anti-patterns|</td>\n",
       "    </tr>\n",
       "    <tr>\n",
       "      <th>3</th>\n",
       "      <td>482</td>\n",
       "      <td>148.0</td>\n",
       "      <td>1.0</td>\n",
       "      <td>1</td>\n",
       "      <td>|comments|anti-patterns|</td>\n",
       "    </tr>\n",
       "    <tr>\n",
       "      <th>4</th>\n",
       "      <td>1680</td>\n",
       "      <td>552.0</td>\n",
       "      <td>1.0</td>\n",
       "      <td>1</td>\n",
       "      <td>|comments|anti-patterns|</td>\n",
       "    </tr>\n",
       "    <tr>\n",
       "      <th>...</th>\n",
       "      <td>...</td>\n",
       "      <td>...</td>\n",
       "      <td>...</td>\n",
       "      <td>...</td>\n",
       "      <td>...</td>\n",
       "    </tr>\n",
       "    <tr>\n",
       "      <th>113274</th>\n",
       "      <td>452683</td>\n",
       "      <td>27032.0</td>\n",
       "      <td>301053.0</td>\n",
       "      <td>301053</td>\n",
       "      <td>|python|python-3.x|</td>\n",
       "    </tr>\n",
       "    <tr>\n",
       "      <th>113275</th>\n",
       "      <td>452688</td>\n",
       "      <td>136413.0</td>\n",
       "      <td>452685.0</td>\n",
       "      <td>452685</td>\n",
       "      <td>|architecture|web-development|architectural-pa...</td>\n",
       "    </tr>\n",
       "    <tr>\n",
       "      <th>113276</th>\n",
       "      <td>452692</td>\n",
       "      <td>177980.0</td>\n",
       "      <td>452685.0</td>\n",
       "      <td>452685</td>\n",
       "      <td>|architecture|web-development|architectural-pa...</td>\n",
       "    </tr>\n",
       "    <tr>\n",
       "      <th>113277</th>\n",
       "      <td>452689</td>\n",
       "      <td>292095.0</td>\n",
       "      <td>452686.0</td>\n",
       "      <td>452686</td>\n",
       "      <td>|database-design|relational-database|nosql|</td>\n",
       "    </tr>\n",
       "    <tr>\n",
       "      <th>113278</th>\n",
       "      <td>452695</td>\n",
       "      <td>177980.0</td>\n",
       "      <td>452694.0</td>\n",
       "      <td>452694</td>\n",
       "      <td>|database|rest|api-design|</td>\n",
       "    </tr>\n",
       "  </tbody>\n",
       "</table>\n",
       "<p>113279 rows × 5 columns</p>\n",
       "</div>"
      ],
      "text/plain": [
       "          Id_x  OwnerUserId  ParentId    Id_y  \\\n",
       "0            3         11.0       1.0       1   \n",
       "1           13          4.0       1.0       1   \n",
       "2           56         17.0       1.0       1   \n",
       "3          482        148.0       1.0       1   \n",
       "4         1680        552.0       1.0       1   \n",
       "...        ...          ...       ...     ...   \n",
       "113274  452683      27032.0  301053.0  301053   \n",
       "113275  452688     136413.0  452685.0  452685   \n",
       "113276  452692     177980.0  452685.0  452685   \n",
       "113277  452689     292095.0  452686.0  452686   \n",
       "113278  452695     177980.0  452694.0  452694   \n",
       "\n",
       "                                                     Tags  \n",
       "0                                |comments|anti-patterns|  \n",
       "1                                |comments|anti-patterns|  \n",
       "2                                |comments|anti-patterns|  \n",
       "3                                |comments|anti-patterns|  \n",
       "4                                |comments|anti-patterns|  \n",
       "...                                                   ...  \n",
       "113274                                |python|python-3.x|  \n",
       "113275  |architecture|web-development|architectural-pa...  \n",
       "113276  |architecture|web-development|architectural-pa...  \n",
       "113277        |database-design|relational-database|nosql|  \n",
       "113278                         |database|rest|api-design|  \n",
       "\n",
       "[113279 rows x 5 columns]"
      ]
     },
     "execution_count": 7,
     "metadata": {},
     "output_type": "execute_result"
    }
   ],
   "source": [
    "nodups_answer_posts = answer_posts.drop_duplicates(subset=['OwnerUserId', 'ParentId'])\n",
    "updated_answer_posts = nodups_answer_posts[nodups_answer_posts['OwnerUserId'].isin(updated_answerer_table['OwnerUserId'])].reset_index(drop = True)\n",
    "# updated_answer_posts.sort_values(by = 'OwnerUserId')\n",
    "merged = pd.merge(updated_answer_posts, question_posts, left_on = 'ParentId', right_on = 'Id', how = 'inner')\n",
    "merged"
   ]
  },
  {
   "cell_type": "code",
   "execution_count": 8,
   "metadata": {},
   "outputs": [],
   "source": [
    "expert_matrix = np.zeros((len(updated_answerer_table), len(updated_tags_table)))\n",
    "\n",
    "#sorting the tags and answerers by Id cause we want the expert matrix to be in the order of IDs\n",
    "updated_tags_table = updated_tags_table.sort_values(by = 'Id')\n",
    "updated_answerer_table = updated_answerer_table.sort_values(by = 'OwnerUserId')\n",
    "\n",
    "# dictionary to map user index to user id and vice versa\n",
    "index_to_user = {}\n",
    "for i in range(len(updated_answerer_table)):\n",
    "    index_to_user[i] = updated_answerer_table.iloc[i]['OwnerUserId']\n",
    "user_to_index = {v: k for k, v in index_to_user.items()}\n",
    "\n",
    "# dictionary to map tag index to tag name and vice versa\n",
    "index_to_tag = {}\n",
    "for i in range(len(updated_tags_table)):\n",
    "    index_to_tag[i] = updated_tags_table.iloc[i]['TagName']\n",
    "tag_to_index = {v: k for k, v in index_to_tag.items()}\n",
    "\n",
    "\n",
    "for i in range(len(merged)):\n",
    "    user_index = user_to_index[merged.iloc[i]['OwnerUserId']]\n",
    "    tagslist = merged.iloc[i]['Tags'].split('|')\n",
    "    for j in range(len(tagslist)):\n",
    "        if(tagslist[j] not in tag_to_index):\n",
    "            continue\n",
    "        tag_index = tag_to_index[tagslist[j]]\n",
    "        expert_matrix[user_index][tag_index] += 1"
   ]
  },
  {
   "cell_type": "code",
   "execution_count": 9,
   "metadata": {},
   "outputs": [
    {
     "data": {
      "text/plain": [
       "array([[13., nan,  6., ..., nan,  1., nan],\n",
       "       [nan, nan,  8., ..., nan, nan, nan],\n",
       "       [ 1., nan,  1., ..., nan, nan, nan],\n",
       "       ...,\n",
       "       [nan, nan, nan, ..., nan, nan, nan],\n",
       "       [ 1., nan, nan, ..., nan,  5.,  1.],\n",
       "       [nan, nan, nan, ..., nan, nan, nan]])"
      ]
     },
     "execution_count": 9,
     "metadata": {},
     "output_type": "execute_result"
    }
   ],
   "source": [
    "for i in range(len(expert_matrix)):\n",
    "    for j in range(len(expert_matrix[i])):\n",
    "        if(expert_matrix[i][j] == 0):\n",
    "            expert_matrix[i][j] = np.nan\n",
    "\n",
    "expert_matrix"
   ]
  },
  {
   "cell_type": "code",
   "execution_count": 10,
   "metadata": {},
   "outputs": [
    {
     "data": {
      "text/plain": [
       "(1160, 974)"
      ]
     },
     "execution_count": 10,
     "metadata": {},
     "output_type": "execute_result"
    }
   ],
   "source": [
    "expert_matrix.shape"
   ]
  },
  {
   "cell_type": "markdown",
   "metadata": {},
   "source": [
    "## Q3"
   ]
  },
  {
   "cell_type": "code",
   "execution_count": 11,
   "metadata": {},
   "outputs": [
    {
     "data": {
      "text/plain": [
       "array([[ 4., nan,  2., ..., nan,  0., nan],\n",
       "       [nan, nan,  2., ..., nan, nan, nan],\n",
       "       [ 0., nan,  0., ..., nan, nan, nan],\n",
       "       ...,\n",
       "       [nan, nan, nan, ..., nan, nan, nan],\n",
       "       [ 0., nan, nan, ..., nan,  1.,  0.],\n",
       "       [nan, nan, nan, ..., nan, nan, nan]])"
      ]
     },
     "execution_count": 11,
     "metadata": {},
     "output_type": "execute_result"
    }
   ],
   "source": [
    "utility_matrix = np.zeros(expert_matrix.shape)\n",
    "for i in range(len(updated_answerer_table)):\n",
    "    for j in range(len(updated_tags_table)):\n",
    "        if expert_matrix[i][j] < 15:\n",
    "            utility_matrix[i][j] = expert_matrix[i][j]//3\n",
    "        elif expert_matrix[i][j] >= 15:\n",
    "            utility_matrix[i][j] = 5\n",
    "        else:\n",
    "            utility_matrix[i][j] = np.nan\n",
    "            \n",
    "utility_matrix"
   ]
  },
  {
   "cell_type": "code",
   "execution_count": 12,
   "metadata": {},
   "outputs": [
    {
     "data": {
      "text/plain": [
       "41228.0"
      ]
     },
     "execution_count": 12,
     "metadata": {},
     "output_type": "execute_result"
    }
   ],
   "source": [
    "#sum of all entries in the utility matrix\n",
    "np.nansum(utility_matrix)"
   ]
  },
  {
   "cell_type": "code",
   "execution_count": 13,
   "metadata": {},
   "outputs": [
    {
     "name": "stdout",
     "output_type": "stream",
     "text": [
      "1164.0\n",
      "1403.0\n"
     ]
    }
   ],
   "source": [
    "# highest row sum\n",
    "print(np.max(np.nansum(utility_matrix, axis = 1)))\n",
    "# print(np.sum(utility_matrix, axis = 0).shape)\n",
    "\n",
    "# highest column sum\n",
    "print(np.max(np.nansum(utility_matrix, axis = 0)))\n",
    "# print(np.sum(utility_matrix, axis = 1).shape)"
   ]
  },
  {
   "cell_type": "code",
   "execution_count": 14,
   "metadata": {},
   "outputs": [
    {
     "data": {
      "text/plain": [
       "(174, 146)"
      ]
     },
     "execution_count": 14,
     "metadata": {},
     "output_type": "execute_result"
    }
   ],
   "source": [
    "# create a test matrix of size smaller than the utility matrix from the bottom 15% of the rows and bottom 15% of the columns of the utility matrix\n",
    "rows = int(0.15*utility_matrix.shape[0])\n",
    "cols = int(0.15*utility_matrix.shape[1])\n",
    "test_matrix = utility_matrix[-rows:, -cols:]\n",
    "test_matrix.shape"
   ]
  },
  {
   "cell_type": "code",
   "execution_count": 15,
   "metadata": {},
   "outputs": [
    {
     "data": {
      "text/plain": [
       "642.0"
      ]
     },
     "execution_count": 15,
     "metadata": {},
     "output_type": "execute_result"
    }
   ],
   "source": [
    "np.nansum(test_matrix)"
   ]
  },
  {
   "cell_type": "code",
   "execution_count": 16,
   "metadata": {},
   "outputs": [
    {
     "data": {
      "text/plain": [
       "40586.0"
      ]
     },
     "execution_count": 16,
     "metadata": {},
     "output_type": "execute_result"
    }
   ],
   "source": [
    "train_matrix = utility_matrix.copy()\n",
    "train_matrix[-rows:, -cols:] = np.nan\n",
    "np.nansum(train_matrix)"
   ]
  },
  {
   "cell_type": "code",
   "execution_count": 17,
   "metadata": {},
   "outputs": [],
   "source": [
    "rating_matrix = train_matrix.copy()"
   ]
  },
  {
   "cell_type": "markdown",
   "metadata": {},
   "source": [
    "## Q4"
   ]
  },
  {
   "cell_type": "code",
   "execution_count": 18,
   "metadata": {},
   "outputs": [],
   "source": [
    "x = len(train_matrix) - int(0.15*len(train_matrix))\n",
    "y = len(train_matrix[0]) - int(0.15*len(train_matrix[0]))\n",
    "\n",
    "def RMSE(utility_matrix ,N):\n",
    "\n",
    "    #getting the test matrix\n",
    "    rows = int(0.15*utility_matrix.shape[0])\n",
    "    cols = int(0.15*utility_matrix.shape[1])\n",
    "    test_matrix = utility_matrix[-rows:, -cols:]\n",
    "\n",
    "    #getting the train matrix\n",
    "    train_matrix = utility_matrix.copy()\n",
    "    train_matrix[-rows:, -cols:] = np.nan\n",
    "\n",
    "    #calculating the centered train matrix\n",
    "    rating_matrix = train_matrix.copy()\n",
    "\n",
    "    x = len(train_matrix) - int(0.15*len(train_matrix))\n",
    "    y = len(train_matrix[0]) - int(0.15*len(train_matrix[0]))\n",
    "\n",
    "    for i in range(len(train_matrix)):\n",
    "        train_matrix[i] -= np.nanmean(train_matrix[i])\n",
    "    similarity_matrix = np.zeros((len(train_matrix), len(train_matrix)))\n",
    "\n",
    "    for i in range(len(train_matrix)):   \n",
    "        for j in range(len(train_matrix)):\n",
    "            if(i == j):\n",
    "                similarity_matrix[i][j] = 1\n",
    "            else:\n",
    "                temp1 = train_matrix[i]\n",
    "                temp2 = train_matrix[j]\n",
    "                indices = np.where(~np.isnan(temp1) & ~np.isnan(temp2))\n",
    "                if(len(indices[0]) == 0):\n",
    "                    similarity_matrix[i][j] = np.nan\n",
    "                else:\n",
    "                    temp1 = temp1[indices]\n",
    "                    temp2 = temp2[indices]\n",
    "                    if(np.array_equal(temp1, temp2)):\n",
    "                        similarity_matrix[i][j] = 1\n",
    "                    elif(np.dot(temp1, temp2) == 0):\n",
    "                        similarity_matrix[i][j] = 0\n",
    "                    else:\n",
    "                        similarity_matrix[i][j] = np.dot(temp1, temp2)/(np.linalg.norm(temp1)*np.linalg.norm(temp2))\n",
    "\n",
    "    predicted_matrix_just_mean = np.zeros((len(test_matrix), len(test_matrix[0])))\n",
    "    predicted_matrix_weighted_mean = np.zeros((len(test_matrix), len(test_matrix[0])))\n",
    "\n",
    "    for i in range(x, len(train_matrix)):\n",
    "        tempsimil = similarity_matrix[i]\n",
    "        indices = np.argsort(tempsimil)[::-1]\n",
    "        indices = indices[~np.isnan(tempsimil[indices])]\n",
    "        for j in range(y, len(train_matrix[0])):\n",
    "            temp = []\n",
    "            for k in range(len(indices)):\n",
    "                if(~np.isnan(rating_matrix[indices[k]][j])):\n",
    "                    temp.append(indices[k])\n",
    "                    if(len(temp) == N):\n",
    "                        break\n",
    "            justmean = 0\n",
    "            for k in range(len(temp)):\n",
    "                justmean += rating_matrix[temp[k]][j]\n",
    "            justmean /= N\n",
    "            predicted_matrix_just_mean[i-x][j-y] = justmean\n",
    "            weightedmean = 0\n",
    "            similarity_sum = 0\n",
    "            for k in temp:\n",
    "                weightedmean += rating_matrix[k][j]*similarity_matrix[i][k]\n",
    "                similarity_sum += similarity_matrix[i][k]\n",
    "            if(similarity_sum != 0):\n",
    "                weightedmean /= similarity_sum\n",
    "                predicted_matrix_weighted_mean[i-x][j-y] = weightedmean\n",
    "\n",
    "    rmse_just_mean = 0\n",
    "    rmse_weighted_mean = 0\n",
    "    count = 0\n",
    "    for i in range(len(test_matrix)):\n",
    "        for j in range(len(test_matrix[0])):\n",
    "            if(~np.isnan(test_matrix[i][j])):\n",
    "                rmse_just_mean += (predicted_matrix_just_mean[i][j] - test_matrix[i][j])**2\n",
    "                rmse_weighted_mean += (predicted_matrix_weighted_mean[i][j] - test_matrix[i][j])**2\n",
    "                count += 1\n",
    "    rmse_just_mean = (rmse_just_mean/count)**0.5\n",
    "    rmse_weighted_mean = (rmse_weighted_mean/count)**0.5\n",
    "    return rmse_just_mean, rmse_weighted_mean\n",
    "    "
   ]
  },
  {
   "cell_type": "code",
   "execution_count": 19,
   "metadata": {},
   "outputs": [
    {
     "name": "stdout",
     "output_type": "stream",
     "text": [
      "(0.7081306039820847, 0.705534035007272)\n",
      "(0.6960745221792036, 0.6928177676218576)\n",
      "(0.6828384805708951, 0.6801368028131318)\n"
     ]
    }
   ],
   "source": [
    "#  User User\n",
    "print(RMSE(utility_matrix, 2))\n",
    "print(RMSE(utility_matrix, 3))\n",
    "print(RMSE(utility_matrix, 5))"
   ]
  },
  {
   "cell_type": "code",
   "execution_count": 20,
   "metadata": {},
   "outputs": [
    {
     "name": "stdout",
     "output_type": "stream",
     "text": [
      "(0.8191314735326606, 0.8157283432373043)\n",
      "(0.7974671351684951, 0.7933978589640686)\n",
      "(0.776344418008056, 0.7715583149790094)\n"
     ]
    }
   ],
   "source": [
    "#  Tag Tag\n",
    "print(RMSE(utility_matrix.transpose(), 2))\n",
    "print(RMSE(utility_matrix.transpose(), 3))\n",
    "print(RMSE(utility_matrix.transpose(), 5))"
   ]
  },
  {
   "cell_type": "markdown",
   "metadata": {},
   "source": [
    "## Q5"
   ]
  },
  {
   "cell_type": "code",
   "execution_count": 21,
   "metadata": {},
   "outputs": [],
   "source": [
    "# not_nan_utility_matrix = utility_matrix.copy()\n",
    "# not_nan_utility_matrix[np.isnan(utility_matrix)] = 0\n",
    "# not_nan_utility_matrix"
   ]
  },
  {
   "cell_type": "code",
   "execution_count": 22,
   "metadata": {},
   "outputs": [],
   "source": [
    "from tqdm import tqdm"
   ]
  },
  {
   "cell_type": "code",
   "execution_count": 23,
   "metadata": {},
   "outputs": [],
   "source": [
    "def matrix_factor(util_mat, K, lambda1, lambda2):\n",
    "    #Initialize Q with guassian distribution of size (util_mat.shape[0], K)\n",
    "    Q = np.random.randn(util_mat.shape[0], K)\n",
    "    Q =  (Q + 1)/2\n",
    "    P = np.random.randn(util_mat.shape[1], K)\n",
    "    P =  (P + 1)/2\n",
    "    learning_rate = 0.0005\n",
    "    epochs = 35\n",
    "    for epoch in tqdm(range(epochs)):\n",
    "\n",
    "        for i in range(len(Q)):           \n",
    "            for x in range(len(P)):\n",
    "                if np.isnan(util_mat[i][x]):\n",
    "                    continue\n",
    "                E = 2*(util_mat[i][x] - np.dot(Q[i], P[x]))\n",
    "                Q[i] = Q[i] + learning_rate*(E*P[x] - lambda1*Q[i])\n",
    "                P[x] = P[x] + learning_rate*(E*Q[i] - lambda2*P[x])\n",
    "    \n",
    "    return Q, P"
   ]
  },
  {
   "cell_type": "code",
   "execution_count": 24,
   "metadata": {},
   "outputs": [],
   "source": [
    "train_matrix = utility_matrix.copy()\n",
    "rows = int(0.15*train_matrix.shape[0])\n",
    "cols = int(0.15*train_matrix.shape[1])\n",
    "train_matrix[-rows:, -cols:] = np.nan\n",
    "\n",
    "test_matrix = utility_matrix[-rows:, -cols:]\n",
    "not_nan_test_matrix = test_matrix.copy()\n",
    "not_nan_test_matrix[np.isnan(test_matrix)] = 0"
   ]
  },
  {
   "cell_type": "code",
   "execution_count": 25,
   "metadata": {},
   "outputs": [],
   "source": [
    "#number of entries that are not nan in the test matrix\n",
    "\n",
    "rmse_count = test_matrix.shape[0]*test_matrix.shape[1] - np.isnan(test_matrix).sum()  "
   ]
  },
  {
   "cell_type": "code",
   "execution_count": 26,
   "metadata": {},
   "outputs": [
    {
     "name": "stdout",
     "output_type": "stream",
     "text": [
      "2 0 0  :\n"
     ]
    },
    {
     "name": "stderr",
     "output_type": "stream",
     "text": [
      "  0%|          | 0/35 [00:00<?, ?it/s]"
     ]
    },
    {
     "name": "stderr",
     "output_type": "stream",
     "text": [
      "100%|██████████| 35/35 [01:07<00:00,  1.94s/it]\n"
     ]
    },
    {
     "name": "stdout",
     "output_type": "stream",
     "text": [
      "0.7620493745429467\n",
      "\n",
      "2 0.001 0.003  :\n"
     ]
    },
    {
     "name": "stderr",
     "output_type": "stream",
     "text": [
      "100%|██████████| 35/35 [01:12<00:00,  2.07s/it]\n"
     ]
    },
    {
     "name": "stdout",
     "output_type": "stream",
     "text": [
      "0.7530203026584174\n",
      "\n",
      "2 0.05 0.05  :\n"
     ]
    },
    {
     "name": "stderr",
     "output_type": "stream",
     "text": [
      "100%|██████████| 35/35 [01:11<00:00,  2.04s/it]\n"
     ]
    },
    {
     "name": "stdout",
     "output_type": "stream",
     "text": [
      "0.7324274721987428\n",
      "\n",
      "2 0.5 0.75  :\n"
     ]
    },
    {
     "name": "stderr",
     "output_type": "stream",
     "text": [
      "100%|██████████| 35/35 [01:11<00:00,  2.05s/it]\n"
     ]
    },
    {
     "name": "stdout",
     "output_type": "stream",
     "text": [
      "0.7677135681106083\n",
      "\n",
      "5 0 0  :\n"
     ]
    },
    {
     "name": "stderr",
     "output_type": "stream",
     "text": [
      "100%|██████████| 35/35 [01:14<00:00,  2.13s/it]\n"
     ]
    },
    {
     "name": "stdout",
     "output_type": "stream",
     "text": [
      "0.9479347289069318\n",
      "\n",
      "5 0.001 0.003  :\n"
     ]
    },
    {
     "name": "stderr",
     "output_type": "stream",
     "text": [
      "100%|██████████| 35/35 [01:10<00:00,  2.03s/it]\n"
     ]
    },
    {
     "name": "stdout",
     "output_type": "stream",
     "text": [
      "0.910045487558364\n",
      "\n",
      "5 0.05 0.05  :\n"
     ]
    },
    {
     "name": "stderr",
     "output_type": "stream",
     "text": [
      "100%|██████████| 35/35 [01:12<00:00,  2.08s/it]\n"
     ]
    },
    {
     "name": "stdout",
     "output_type": "stream",
     "text": [
      "0.8851432622541018\n",
      "\n",
      "5 0.5 0.75  :\n"
     ]
    },
    {
     "name": "stderr",
     "output_type": "stream",
     "text": [
      "100%|██████████| 35/35 [01:12<00:00,  2.06s/it]\n"
     ]
    },
    {
     "name": "stdout",
     "output_type": "stream",
     "text": [
      "0.8281942109182915\n",
      "\n",
      "10 0 0  :\n"
     ]
    },
    {
     "name": "stderr",
     "output_type": "stream",
     "text": [
      "100%|██████████| 35/35 [01:14<00:00,  2.13s/it]\n"
     ]
    },
    {
     "name": "stdout",
     "output_type": "stream",
     "text": [
      "1.139593008533728\n",
      "\n",
      "10 0.001 0.003  :\n"
     ]
    },
    {
     "name": "stderr",
     "output_type": "stream",
     "text": [
      "100%|██████████| 35/35 [01:11<00:00,  2.04s/it]\n"
     ]
    },
    {
     "name": "stdout",
     "output_type": "stream",
     "text": [
      "1.1194375047386036\n",
      "\n",
      "10 0.05 0.05  :\n"
     ]
    },
    {
     "name": "stderr",
     "output_type": "stream",
     "text": [
      "100%|██████████| 35/35 [01:11<00:00,  2.04s/it]\n"
     ]
    },
    {
     "name": "stdout",
     "output_type": "stream",
     "text": [
      "1.0908074364864637\n",
      "\n",
      "10 0.5 0.75  :\n"
     ]
    },
    {
     "name": "stderr",
     "output_type": "stream",
     "text": [
      "100%|██████████| 35/35 [01:13<00:00,  2.10s/it]"
     ]
    },
    {
     "name": "stdout",
     "output_type": "stream",
     "text": [
      "0.909536198323997\n",
      "\n"
     ]
    },
    {
     "name": "stderr",
     "output_type": "stream",
     "text": [
      "\n"
     ]
    }
   ],
   "source": [
    "# set of ks to try\n",
    "ks = [2, 5, 10]\n",
    "#set of lambda1 and lambda2 to try\n",
    "lambdas = [(0,0), (0.001, 0.003), (0.05, 0.05), (0.5, 0.75)]\n",
    "\n",
    "for k in ks:\n",
    "    for (lambda1, lambda2) in lambdas:\n",
    "        print (k, lambda1, lambda2, \" :\")\n",
    "        Q, P = matrix_factor(train_matrix, k, lambda1, lambda2)\n",
    "        R = (Q @ P.T)[-rows:, -cols:]\n",
    "        R[np.isnan(test_matrix)] = 0\n",
    "        final_loss = np.linalg.norm(not_nan_test_matrix - R)/np.sqrt(rmse_count)\n",
    "        print(final_loss)\n",
    "        print()\n",
    "        "
   ]
  },
  {
   "cell_type": "markdown",
   "metadata": {},
   "source": [
    "## Q6"
   ]
  },
  {
   "cell_type": "code",
   "execution_count": 27,
   "metadata": {},
   "outputs": [],
   "source": [
    "from surprise import Dataset, Reader, KNNBaseline\n",
    "from surprise.model_selection import train_test_split\n",
    "from surprise import accuracy\n",
    "\n",
    "\n",
    "train_data = pd.DataFrame(rating_matrix)\n",
    "test_data = pd.DataFrame(test_matrix)\n",
    "\n",
    "train_data = train_data.stack().reset_index()\n",
    "train_data.columns = ['user', 'item', 'rating']\n",
    "reader = Reader(rating_scale=(train_data['rating'].min(), train_data['rating'].max()))\n",
    "train_dataset = Dataset.load_from_df(train_data[['user', 'item', 'rating']], reader)\n",
    "trainset = train_dataset.build_full_trainset()\n",
    "\n",
    "test_data = test_data.stack().reset_index()\n",
    "test_data.columns = ['user', 'item', 'rating']\n",
    "test_dataset = Dataset.load_from_df(test_data[['user', 'item', 'rating']], reader)\n",
    "testset = test_dataset.build_full_trainset().build_testset()"
   ]
  },
  {
   "cell_type": "code",
   "execution_count": 28,
   "metadata": {},
   "outputs": [
    {
     "name": "stdout",
     "output_type": "stream",
     "text": [
      "RMSE: 0.9631\n",
      "RMSE: 0.9392\n",
      "RMSE: 0.9260\n"
     ]
    }
   ],
   "source": [
    "algo = KNNBaseline(k=2, min_k= 1, sim_options={'name' : 'pearson', 'user_based' : True}, verbose = False)\n",
    "algo.fit(trainset)\n",
    "predictions = algo.test(testset)\n",
    "rmse = accuracy.rmse(predictions)\n",
    "# print(f'RMSE: {rmse}')\n",
    "\n",
    "algo = KNNBaseline(k=3, min_k= 1, sim_options={'name' : 'pearson', 'user_based' : True}, verbose = False)\n",
    "algo.fit(trainset)\n",
    "predictions = algo.test(testset)\n",
    "rmse = accuracy.rmse(predictions)\n",
    "# print(f'RMSE: {rmse}')\n",
    "\n",
    "algo = KNNBaseline(k=5, min_k= 1, sim_options={'name' : 'pearson', 'user_based' : True}, verbose = False)\n",
    "algo.fit(trainset)\n",
    "predictions = algo.test(testset)\n",
    "rmse = accuracy.rmse(predictions)\n",
    "# print(f'RMSE: {rmse}')"
   ]
  },
  {
   "cell_type": "code",
   "execution_count": 29,
   "metadata": {},
   "outputs": [
    {
     "name": "stdout",
     "output_type": "stream",
     "text": [
      "RMSE: 0.9462\n",
      "RMSE: 0.9418\n",
      "RMSE: 0.9167\n"
     ]
    }
   ],
   "source": [
    "algo = KNNBaseline(k=2, min_k= 1, sim_options={'name' : 'pearson', 'user_based' : False}, verbose = False)\n",
    "algo.fit(trainset)\n",
    "predictions = algo.test(testset)\n",
    "rmse = accuracy.rmse(predictions)\n",
    "# print(f'RMSE: {rmse}')\n",
    "\n",
    "algo = KNNBaseline(k=3, min_k= 1, sim_options={'name' : 'pearson', 'user_based' : False}, verbose = False)\n",
    "algo.fit(trainset)\n",
    "predictions = algo.test(testset)\n",
    "rmse = accuracy.rmse(predictions)\n",
    "# print(f'RMSE: {rmse}')\n",
    "\n",
    "algo = KNNBaseline(k=5, min_k= 1, sim_options={'name' : 'pearson', 'user_based' : False}, verbose = False)\n",
    "algo.fit(trainset)\n",
    "predictions = algo.test(testset)\n",
    "rmse = accuracy.rmse(predictions)\n",
    "# print(f'RMSE: {rmse}')\n"
   ]
  },
  {
   "cell_type": "code",
   "execution_count": 30,
   "metadata": {},
   "outputs": [
    {
     "name": "stdout",
     "output_type": "stream",
     "text": [
      "RMSE: 0.8815\n",
      "RMSE: 0.9172\n",
      "RMSE: 0.9194\n"
     ]
    }
   ],
   "source": [
    "from surprise import SVD\n",
    "from surprise.model_selection import GridSearchCV\n",
    "\n",
    "Ks = [2, 5, 10]\n",
    "for k in Ks:\n",
    "    param = {\"n_epochs\": [5, 10, 25], \"lr_all\": [0.0001, 0.001, 0.01], \"reg_all\": [ 0.001, 0.01, 0.1, 1], \"n_factors\": [k]}\n",
    "    gs = GridSearchCV(SVD, param, measures=[\"rmse\"])\n",
    "    gs.fit(train_dataset)\n",
    "    \n",
    "    algo = gs.best_estimator[\"rmse\"]\n",
    "    algo = algo.fit(trainset)\n",
    "    rmse = accuracy.rmse(algo.test(testset))"
   ]
  }
 ],
 "metadata": {
  "kernelspec": {
   "display_name": "Python 3",
   "language": "python",
   "name": "python3"
  },
  "language_info": {
   "codemirror_mode": {
    "name": "ipython",
    "version": 3
   },
   "file_extension": ".py",
   "mimetype": "text/x-python",
   "name": "python",
   "nbconvert_exporter": "python",
   "pygments_lexer": "ipython3",
   "version": "3.10.5"
  }
 },
 "nbformat": 4,
 "nbformat_minor": 2
}
